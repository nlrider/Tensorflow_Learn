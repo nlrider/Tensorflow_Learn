{
 "cells": [
  {
   "cell_type": "markdown",
   "metadata": {},
   "source": [
    "### __Transfer Learning with the Inception Model__"
   ]
  },
  {
   "cell_type": "code",
   "execution_count": 1,
   "metadata": {},
   "outputs": [],
   "source": [
    "import plaidml.keras\n",
    "plaidml.keras.install_backend()\n",
    "import os\n",
    "os.environ[\"KERAS_BACKEND\"]=\"plaidml.keras.backend\"\n",
    "import tensorflow as tf\n",
    "from tensorflow.keras.optimizers import RMSprop\n",
    "from tensorflow.keras.preprocessing.image import ImageDataGenerator"
   ]
  },
  {
   "cell_type": "code",
   "execution_count": 10,
   "metadata": {
    "collapsed": true,
    "jupyter": {
     "outputs_hidden": true
    }
   },
   "outputs": [
    {
     "name": "stdout",
     "output_type": "stream",
     "text": [
      "--2021-03-19 10:07:03--  https://storage.googleapis.com/mledu-datasets/inception_v3_weights_tf_dim_ordering_tf_kernels_notop.h5\n",
      "Resolving storage.googleapis.com (storage.googleapis.com)... 2607:f8b0:4023:1006::80, 142.250.138.128\n",
      "Connecting to storage.googleapis.com (storage.googleapis.com)|2607:f8b0:4023:1006::80|:443... connected.\n",
      "HTTP request sent, awaiting response... 200 OK\n",
      "Length: 87910968 (84M) [application/x-hdf]\n",
      "Saving to: ‘/tmp/inception_v3_weights_tf_dim_ordering_tf_kernels_notop.h5’\n",
      "\n",
      "/tmp/inception_v3_w 100%[===================>]  83.84M  35.2MB/s    in 2.4s    \n",
      "\n",
      "2021-03-19 10:07:06 (35.2 MB/s) - ‘/tmp/inception_v3_weights_tf_dim_ordering_tf_kernels_notop.h5’ saved [87910968/87910968]\n",
      "\n",
      "last layer output shape:  (None, 7, 7, 768)\n"
     ]
    }
   ],
   "source": [
    "#import inception model\n",
    "from tensorflow.keras import layers\n",
    "from tensorflow.keras import Model\n",
    "\n",
    "!wget --no-check-certificate \\\n",
    "    https://storage.googleapis.com/mledu-datasets/inception_v3_weights_tf_dim_ordering_tf_kernels_notop.h5 \\\n",
    "    -O /tmp/inception_v3_weights_tf_dim_ordering_tf_kernels_notop.h5\n",
    "  \n",
    "from tensorflow.keras.applications.inception_v3 import InceptionV3\n",
    "\n",
    "local_weights_file = '/tmp/inception_v3_weights_tf_dim_ordering_tf_kernels_notop.h5'\n",
    "\n",
    "pre_trained_model = InceptionV3(input_shape = (150, 150, 3), \n",
    "                                include_top = False, \n",
    "                                weights = None)\n",
    "\n",
    "pre_trained_model.load_weights(local_weights_file)\n",
    "\n",
    "#freeze weights\n",
    "for layer in pre_trained_model.layers:\n",
    "  layer.trainable = False\n",
    "  \n",
    "# pre_trained_model.summary()\n",
    "\n",
    "last_layer = pre_trained_model.get_layer('mixed7')\n",
    "print('last layer output shape: ', last_layer.output_shape)\n",
    "last_output = last_layer.output"
   ]
  },
  {
   "cell_type": "code",
   "execution_count": 11,
   "metadata": {},
   "outputs": [],
   "source": [
    "#build model for new data with frozen CNN layers from Inception\n",
    "from tensorflow.keras.optimizers import RMSprop\n",
    "\n",
    "# Flatten the output layer to 1 dimension\n",
    "x = layers.Flatten()(last_output)\n",
    "# Add a fully connected layer with 1,024 hidden units and ReLU activation\n",
    "x = layers.Dense(1024, activation='relu')(x)\n",
    "# Add a dropout rate of 0.2\n",
    "x = layers.Dropout(0.2)(x)                  \n",
    "# Add a final sigmoid layer for classification\n",
    "x = layers.Dense  (1, activation='sigmoid')(x)           \n",
    "\n",
    "model = Model( pre_trained_model.input, x) \n",
    "\n",
    "model.compile(optimizer = RMSprop(lr=0.0001), \n",
    "              loss = 'binary_crossentropy', \n",
    "              metrics = ['accuracy'])"
   ]
  },
  {
   "cell_type": "code",
   "execution_count": 12,
   "metadata": {
    "collapsed": true,
    "jupyter": {
     "outputs_hidden": true
    }
   },
   "outputs": [
    {
     "name": "stdout",
     "output_type": "stream",
     "text": [
      "--2021-03-19 10:10:20--  https://storage.googleapis.com/mledu-datasets/cats_and_dogs_filtered.zip\n",
      "Resolving storage.googleapis.com (storage.googleapis.com)... 2607:f8b0:4023:1006::80, 142.250.138.128\n",
      "Connecting to storage.googleapis.com (storage.googleapis.com)|2607:f8b0:4023:1006::80|:443... connected.\n",
      "HTTP request sent, awaiting response... 200 OK\n",
      "Length: 68606236 (65M) [application/zip]\n",
      "Saving to: ‘/tmp/cats_and_dogs_filtered.zip’\n",
      "\n",
      "/tmp/cats_and_dogs_ 100%[===================>]  65.43M  35.5MB/s    in 1.8s    \n",
      "\n",
      "2021-03-19 10:10:22 (35.5 MB/s) - ‘/tmp/cats_and_dogs_filtered.zip’ saved [68606236/68606236]\n",
      "\n",
      "Found 2000 images belonging to 2 classes.\n",
      "Found 1000 images belonging to 2 classes.\n"
     ]
    }
   ],
   "source": [
    "#obtain data from google - cats vs. dogs \n",
    "#read zip file and unzip\n",
    "#build directories and image augmentor with ImageDataGenerator\n",
    "\n",
    "!wget --no-check-certificate \\\n",
    "        https://storage.googleapis.com/mledu-datasets/cats_and_dogs_filtered.zip \\\n",
    "       -O /tmp/cats_and_dogs_filtered.zip\n",
    "\n",
    "import zipfile\n",
    "\n",
    "local_zip = '//tmp/cats_and_dogs_filtered.zip'\n",
    "\n",
    "zip_ref = zipfile.ZipFile(local_zip, 'r')\n",
    "\n",
    "zip_ref.extractall('/tmp')\n",
    "zip_ref.close()\n",
    "\n",
    "# Define our example directories and files\n",
    "base_dir = '/tmp/cats_and_dogs_filtered'\n",
    "\n",
    "train_dir = os.path.join( base_dir, 'train')\n",
    "validation_dir = os.path.join( base_dir, 'validation')\n",
    "\n",
    "\n",
    "train_cats_dir = os.path.join(train_dir, 'cats') # Directory with our training cat pictures\n",
    "train_dogs_dir = os.path.join(train_dir, 'dogs') # Directory with our training dog pictures\n",
    "validation_cats_dir = os.path.join(validation_dir, 'cats') # Directory with our validation cat pictures\n",
    "validation_dogs_dir = os.path.join(validation_dir, 'dogs')# Directory with our validation dog pictures\n",
    "\n",
    "train_cat_fnames = os.listdir(train_cats_dir)\n",
    "train_dog_fnames = os.listdir(train_dogs_dir)\n",
    "\n",
    "# Add data-augmentation parameters to ImageDataGenerator\n",
    "train_datagen = ImageDataGenerator(rescale = 1./255.,\n",
    "                                   rotation_range = 40,\n",
    "                                   width_shift_range = 0.2,\n",
    "                                   height_shift_range = 0.2,\n",
    "                                   shear_range = 0.2,\n",
    "                                   zoom_range = 0.2,\n",
    "                                   horizontal_flip = True)\n",
    "\n",
    "# non-augmented validation/test data as it should be\n",
    "test_datagen = ImageDataGenerator( rescale = 1.0/255. )\n",
    "\n",
    "# Flow training images in batches of 20 using train_datagen generator\n",
    "train_generator = train_datagen.flow_from_directory(train_dir,\n",
    "                                                    batch_size = 20,\n",
    "                                                    class_mode = 'binary', \n",
    "                                                    target_size = (150, 150))     \n",
    "\n",
    "# Flow validation images in batches of 20 using test_datagen generator\n",
    "validation_generator =  test_datagen.flow_from_directory( validation_dir,\n",
    "                                                          batch_size  = 20,\n",
    "                                                          class_mode  = 'binary', \n",
    "                                                          target_size = (150, 150))"
   ]
  },
  {
   "cell_type": "code",
   "execution_count": 13,
   "metadata": {},
   "outputs": [
    {
     "name": "stdout",
     "output_type": "stream",
     "text": [
      "Epoch 1/20\n",
      "100/100 - 37s - loss: 0.3335 - accuracy: 0.8730 - val_loss: 0.1099 - val_accuracy: 0.9530\n",
      "Epoch 2/20\n",
      "100/100 - 37s - loss: 0.2360 - accuracy: 0.9045 - val_loss: 0.1752 - val_accuracy: 0.9420\n",
      "Epoch 3/20\n",
      "100/100 - 37s - loss: 0.2061 - accuracy: 0.9190 - val_loss: 0.1450 - val_accuracy: 0.9490\n",
      "Epoch 4/20\n",
      "100/100 - 39s - loss: 0.2184 - accuracy: 0.9180 - val_loss: 0.1124 - val_accuracy: 0.9580\n",
      "Epoch 5/20\n",
      "100/100 - 39s - loss: 0.1826 - accuracy: 0.9360 - val_loss: 0.1154 - val_accuracy: 0.9580\n",
      "Epoch 6/20\n",
      "100/100 - 39s - loss: 0.1638 - accuracy: 0.9410 - val_loss: 0.1127 - val_accuracy: 0.9650\n",
      "Epoch 7/20\n",
      "100/100 - 39s - loss: 0.1631 - accuracy: 0.9420 - val_loss: 0.2180 - val_accuracy: 0.9400\n",
      "Epoch 8/20\n",
      "100/100 - 39s - loss: 0.1857 - accuracy: 0.9350 - val_loss: 0.0985 - val_accuracy: 0.9690\n",
      "Epoch 9/20\n",
      "100/100 - 39s - loss: 0.1614 - accuracy: 0.9355 - val_loss: 0.1141 - val_accuracy: 0.9660\n",
      "Epoch 10/20\n",
      "100/100 - 40s - loss: 0.1559 - accuracy: 0.9480 - val_loss: 0.1278 - val_accuracy: 0.9610\n",
      "Epoch 11/20\n",
      "100/100 - 39s - loss: 0.1430 - accuracy: 0.9505 - val_loss: 0.1796 - val_accuracy: 0.9500\n",
      "Epoch 12/20\n",
      "100/100 - 39s - loss: 0.1384 - accuracy: 0.9560 - val_loss: 0.1148 - val_accuracy: 0.9720\n",
      "Epoch 13/20\n",
      "100/100 - 39s - loss: 0.1520 - accuracy: 0.9470 - val_loss: 0.1765 - val_accuracy: 0.9560\n",
      "Epoch 14/20\n",
      "100/100 - 40s - loss: 0.1353 - accuracy: 0.9480 - val_loss: 0.1745 - val_accuracy: 0.9620\n",
      "Epoch 15/20\n",
      "100/100 - 39s - loss: 0.1685 - accuracy: 0.9495 - val_loss: 0.1328 - val_accuracy: 0.9670\n",
      "Epoch 16/20\n",
      "100/100 - 38s - loss: 0.1325 - accuracy: 0.9575 - val_loss: 0.1619 - val_accuracy: 0.9590\n",
      "Epoch 17/20\n",
      "100/100 - 39s - loss: 0.1358 - accuracy: 0.9540 - val_loss: 0.1500 - val_accuracy: 0.9660\n",
      "Epoch 18/20\n",
      "100/100 - 39s - loss: 0.1348 - accuracy: 0.9600 - val_loss: 0.1220 - val_accuracy: 0.9660\n",
      "Epoch 19/20\n",
      "100/100 - 39s - loss: 0.1477 - accuracy: 0.9455 - val_loss: 0.1092 - val_accuracy: 0.9710\n",
      "Epoch 20/20\n",
      "100/100 - 40s - loss: 0.1201 - accuracy: 0.9605 - val_loss: 0.1254 - val_accuracy: 0.9640\n"
     ]
    }
   ],
   "source": [
    "#fit model\n",
    "history = model.fit(\n",
    "            train_generator,\n",
    "            validation_data = validation_generator,\n",
    "            steps_per_epoch = 100,\n",
    "            epochs = 20,\n",
    "            validation_steps = 50,\n",
    "            verbose = 2)"
   ]
  },
  {
   "cell_type": "code",
   "execution_count": 14,
   "metadata": {},
   "outputs": [
    {
     "data": {
      "image/png": "[encoded data removed]",
      "text/plain": [
       "<Figure size 432x288 with 1 Axes>"
      ]
     },
     "metadata": {
      "needs_background": "light"
     },
     "output_type": "display_data"
    },
    {
     "data": {
      "text/plain": [
       "<Figure size 432x288 with 0 Axes>"
      ]
     },
     "metadata": {},
     "output_type": "display_data"
    }
   ],
   "source": [
    "#plot model performance\n",
    "import matplotlib.pyplot as plt\n",
    "acc = history.history['accuracy']\n",
    "val_acc = history.history['val_accuracy']\n",
    "loss = history.history['loss']\n",
    "val_loss = history.history['val_loss']\n",
    "\n",
    "epochs = range(len(acc))\n",
    "\n",
    "plt.plot(epochs, acc, 'r', label='Training accuracy')\n",
    "plt.plot(epochs, val_acc, 'b', label='Validation accuracy')\n",
    "plt.title('Training and validation accuracy')\n",
    "plt.legend(loc=0)\n",
    "plt.figure()\n",
    "\n",
    "\n",
    "plt.show()"
   ]
  },
  {
   "cell_type": "code",
   "execution_count": null,
   "metadata": {},
   "outputs": [],
   "source": []
  }
 ],
 "metadata": {
  "kernelspec": {
   "display_name": "Python 3",
   "language": "python",
   "name": "python3"
  },
  "language_info": {
   "codemirror_mode": {
    "name": "ipython",
    "version": 3
   },
   "file_extension": ".py",
   "mimetype": "text/x-python",
   "name": "python",
   "nbconvert_exporter": "python",
   "pygments_lexer": "ipython3",
   "version": "3.8.3"
  }
 },
 "nbformat": 4,
 "nbformat_minor": 4
}
