{
 "cells": [
  {
   "cell_type": "markdown",
   "metadata": {},
   "source": [
    "### __BBC News Text Classification__"
   ]
  },
  {
   "cell_type": "code",
   "execution_count": 1,
   "metadata": {},
   "outputs": [],
   "source": [
    "import plaidml.keras\n",
    "plaidml.keras.install_backend()\n",
    "import os\n",
    "os.environ[\"KERAS_BACKEND\"]=\"plaidml.keras.backend\""
   ]
  },
  {
   "cell_type": "code",
   "execution_count": 2,
   "metadata": {},
   "outputs": [],
   "source": [
    "import csv\n",
    "import tensorflow as tf\n",
    "import numpy as np\n",
    "from tensorflow.keras.preprocessing.text import Tokenizer\n",
    "from tensorflow.keras.preprocessing.sequence import pad_sequences"
   ]
  },
  {
   "cell_type": "code",
   "execution_count": 3,
   "metadata": {},
   "outputs": [
    {
     "name": "stdout",
     "output_type": "stream",
     "text": [
      "--2021-03-27 15:51:36--  https://storage.googleapis.com/laurencemoroney-blog.appspot.com/bbc-text.csv\n",
      "Resolving storage.googleapis.com (storage.googleapis.com)... 2607:f8b0:4023:1006::80, 2607:f8b0:4023:1000::80, 142.250.138.128\n",
      "Connecting to storage.googleapis.com (storage.googleapis.com)|2607:f8b0:4023:1006::80|:443... connected.\n",
      "HTTP request sent, awaiting response... 200 OK\n",
      "Length: 5057493 (4.8M) [application/octet-stream]\n",
      "Saving to: ‘/tmp/bbc-text.csv’\n",
      "\n",
      "/tmp/bbc-text.csv   100%[===================>]   4.82M  11.8MB/s    in 0.4s    \n",
      "\n",
      "2021-03-27 15:51:37 (11.8 MB/s) - ‘/tmp/bbc-text.csv’ saved [5057493/5057493]\n",
      "\n"
     ]
    }
   ],
   "source": [
    "#download bbc text from web\n",
    "!wget --no-check-certificate \\\n",
    "    https://storage.googleapis.com/laurencemoroney-blog.appspot.com/bbc-text.csv \\\n",
    "    -O /tmp/bbc-text.csv"
   ]
  },
  {
   "cell_type": "code",
   "execution_count": 4,
   "metadata": {},
   "outputs": [],
   "source": [
    "#define hyperparams\n",
    "vocab_size = 1000\n",
    "embedding_dim = 16\n",
    "max_length = 120\n",
    "trunc_type = 'post'\n",
    "padding_type = 'post'\n",
    "oov_tok = '<oov>'\n",
    "training_portion = 0.8"
   ]
  },
  {
   "cell_type": "code",
   "execution_count": 5,
   "metadata": {},
   "outputs": [
    {
     "name": "stdout",
     "output_type": "stream",
     "text": [
      "153\n"
     ]
    }
   ],
   "source": [
    "#define stop words and create lists\n",
    "sentences = []\n",
    "labels = []\n",
    "stopwords = [\"a\", \"about\", \"above\", \"after\", \"again\", \"against\", \"all\", \"am\", \"an\", \"and\", \"any\", \"are\", \"as\", \"at\", \"be\", \"because\", \"been\", \"before\", \"being\", \"below\", \"between\", \"both\", \"but\", \"by\", \"could\", \"did\", \"do\", \"does\", \"doing\", \"down\", \"during\", \"each\", \"few\", \"for\", \"from\", \"further\", \"had\", \"has\", \"have\", \"having\", \"he\", \"he'd\", \"he'll\", \"he's\", \"her\", \"here\", \"here's\", \"hers\", \"herself\", \"him\", \"himself\", \"his\", \"how\", \"how's\", \"i\", \"i'd\", \"i'll\", \"i'm\", \"i've\", \"if\", \"in\", \"into\", \"is\", \"it\", \"it's\", \"its\", \"itself\", \"let's\", \"me\", \"more\", \"most\", \"my\", \"myself\", \"nor\", \"of\", \"on\", \"once\", \"only\", \"or\", \"other\", \"ought\", \"our\", \"ours\", \"ourselves\", \"out\", \"over\", \"own\", \"same\", \"she\", \"she'd\", \"she'll\", \"she's\", \"should\", \"so\", \"some\", \"such\", \"than\", \"that\", \"that's\", \"the\", \"their\", \"theirs\", \"them\", \"themselves\", \"then\", \"there\", \"there's\", \"these\", \"they\", \"they'd\", \"they'll\", \"they're\", \"they've\", \"this\", \"those\", \"through\", \"to\", \"too\", \"under\", \"until\", \"up\", \"very\", \"was\", \"we\", \"we'd\", \"we'll\", \"we're\", \"we've\", \"were\", \"what\", \"what's\", \"when\", \"when's\", \"where\", \"where's\", \"which\", \"while\", \"who\", \"who's\", \"whom\", \"why\", \"why's\", \"with\", \"would\", \"you\", \"you'd\", \"you'll\", \"you're\", \"you've\", \"your\", \"yours\", \"yourself\", \"yourselves\" ]\n",
    "print(len(stopwords))"
   ]
  },
  {
   "cell_type": "code",
   "execution_count": 6,
   "metadata": {},
   "outputs": [
    {
     "data": {
      "text/html": [
       "<div>\n",
       "<style scoped>\n",
       "    .dataframe tbody tr th:only-of-type {\n",
       "        vertical-align: middle;\n",
       "    }\n",
       "\n",
       "    .dataframe tbody tr th {\n",
       "        vertical-align: top;\n",
       "    }\n",
       "\n",
       "    .dataframe thead th {\n",
       "        text-align: right;\n",
       "    }\n",
       "</style>\n",
       "<table border=\"1\" class=\"dataframe\">\n",
       "  <thead>\n",
       "    <tr style=\"text-align: right;\">\n",
       "      <th></th>\n",
       "      <th>category</th>\n",
       "      <th>text</th>\n",
       "    </tr>\n",
       "  </thead>\n",
       "  <tbody>\n",
       "    <tr>\n",
       "      <th>0</th>\n",
       "      <td>tech</td>\n",
       "      <td>tv future in the hands of viewers with home th...</td>\n",
       "    </tr>\n",
       "    <tr>\n",
       "      <th>1</th>\n",
       "      <td>business</td>\n",
       "      <td>worldcom boss  left books alone  former worldc...</td>\n",
       "    </tr>\n",
       "    <tr>\n",
       "      <th>2</th>\n",
       "      <td>sport</td>\n",
       "      <td>tigers wary of farrell  gamble  leicester say ...</td>\n",
       "    </tr>\n",
       "    <tr>\n",
       "      <th>3</th>\n",
       "      <td>sport</td>\n",
       "      <td>yeading face newcastle in fa cup premiership s...</td>\n",
       "    </tr>\n",
       "    <tr>\n",
       "      <th>4</th>\n",
       "      <td>entertainment</td>\n",
       "      <td>ocean s twelve raids box office ocean s twelve...</td>\n",
       "    </tr>\n",
       "  </tbody>\n",
       "</table>\n",
       "</div>"
      ],
      "text/plain": [
       "        category                                               text\n",
       "0           tech  tv future in the hands of viewers with home th...\n",
       "1       business  worldcom boss  left books alone  former worldc...\n",
       "2          sport  tigers wary of farrell  gamble  leicester say ...\n",
       "3          sport  yeading face newcastle in fa cup premiership s...\n",
       "4  entertainment  ocean s twelve raids box office ocean s twelve..."
      ]
     },
     "execution_count": 6,
     "metadata": {},
     "output_type": "execute_result"
    }
   ],
   "source": [
    "import pandas as pd\n",
    "dat = pd.read_csv('/tmp/bbc-text.csv')\n",
    "dat.head()"
   ]
  },
  {
   "cell_type": "code",
   "execution_count": 7,
   "metadata": {},
   "outputs": [
    {
     "name": "stdout",
     "output_type": "stream",
     "text": [
      "2225\n",
      "2225\n",
      "3123\n"
     ]
    }
   ],
   "source": [
    "#read data, split tokens, obtain sentences and labels\n",
    "#check length of labels, sentences and print the first sentence\n",
    "with open(\"/tmp/bbc-text.csv\", 'r') as csvfile:\n",
    "    csv_reader = csv.reader(csvfile, delimiter=',')\n",
    "    next(csv_reader, None)\n",
    "    \n",
    "    for row in csv_reader:\n",
    "        labels.append(row[0])\n",
    "        sentence = row[1]\n",
    "        \n",
    "        for word in stopwords:\n",
    "            token = ' ' + word + ' '\n",
    "            sentence = sentence.replace(token, ' ').replace(' ', ' ')\n",
    "            \n",
    "        sentences.append(sentence)\n",
    "        \n",
    "print(len(labels))\n",
    "print(len(sentences))\n",
    "print(len(sentences[0]))"
   ]
  },
  {
   "cell_type": "code",
   "execution_count": 8,
   "metadata": {},
   "outputs": [
    {
     "name": "stdout",
     "output_type": "stream",
     "text": [
      "1780\n",
      "1780\n",
      "1780\n",
      "445\n",
      "445\n"
     ]
    }
   ],
   "source": [
    "#split data into train:test\n",
    "train_size = int(len(sentences)* training_portion)\n",
    "\n",
    "train_sentences = sentences[:train_size]\n",
    "train_labels = labels[:train_size]\n",
    "\n",
    "validation_sentences = sentences[train_size:]\n",
    "validation_labels = labels[train_size:]\n",
    "\n",
    "print(train_size)\n",
    "print(len(train_sentences))\n",
    "print(len(train_labels))\n",
    "print(len(validation_sentences))\n",
    "print(len(validation_labels))"
   ]
  },
  {
   "cell_type": "code",
   "execution_count": 9,
   "metadata": {},
   "outputs": [
    {
     "name": "stdout",
     "output_type": "stream",
     "text": [
      "449\n",
      "120\n"
     ]
    }
   ],
   "source": [
    "#tokenize words, fit on text, set sequences and padding for training sets\n",
    "tokenizer = Tokenizer(\n",
    "    num_words=vocab_size,\n",
    "    oov_token=oov_tok\n",
    ")\n",
    "tokenizer.fit_on_texts(train_sentences)\n",
    "word_index = tokenizer.word_index\n",
    "\n",
    "train_sequences = tokenizer.texts_to_sequences(train_sentences)\n",
    "\n",
    "train_padded = pad_sequences(\n",
    "    train_sequences,\n",
    "    padding=padding_type,\n",
    "    maxlen=max_length\n",
    ")\n",
    "\n",
    "print(len(train_sequences[0]))\n",
    "print(len(train_padded[0]))"
   ]
  },
  {
   "cell_type": "code",
   "execution_count": 10,
   "metadata": {},
   "outputs": [
    {
     "name": "stdout",
     "output_type": "stream",
     "text": [
      "445\n",
      "(445, 120)\n"
     ]
    }
   ],
   "source": [
    "#define validation sets\n",
    "\n",
    "validation_sequences = tokenizer.texts_to_sequences(validation_sentences)\n",
    "validation_padded = pad_sequences(\n",
    "    validation_sequences,\n",
    "    padding=padding_type,\n",
    "    maxlen=max_length\n",
    ")\n",
    "\n",
    "print(len(validation_sequences))\n",
    "print(validation_padded.shape)"
   ]
  },
  {
   "cell_type": "code",
   "execution_count": 11,
   "metadata": {},
   "outputs": [],
   "source": [
    "#tokenize validation sets, create numpy arrays for training and validation sets\n",
    "\n",
    "label_tokenizer = Tokenizer()\n",
    "label_tokenizer.fit_on_texts(labels)\n",
    "\n",
    "training_label_seq = np.array(label_tokenizer.texts_to_sequences(train_labels))\n",
    "validation_label_seq = np.array(label_tokenizer.texts_to_sequences(validation_labels))"
   ]
  },
  {
   "cell_type": "code",
   "execution_count": 12,
   "metadata": {},
   "outputs": [
    {
     "name": "stdout",
     "output_type": "stream",
     "text": [
      "Model: \"sequential\"\n",
      "_________________________________________________________________\n",
      "Layer (type)                 Output Shape              Param #   \n",
      "=================================================================\n",
      "embedding (Embedding)        (None, 120, 16)           16000     \n",
      "_________________________________________________________________\n",
      "global_average_pooling1d (Gl (None, 16)                0         \n",
      "_________________________________________________________________\n",
      "dense (Dense)                (None, 24)                408       \n",
      "_________________________________________________________________\n",
      "dense_1 (Dense)              (None, 6)                 150       \n",
      "=================================================================\n",
      "Total params: 16,558\n",
      "Trainable params: 16,558\n",
      "Non-trainable params: 0\n",
      "_________________________________________________________________\n"
     ]
    }
   ],
   "source": [
    "#build model\n",
    "model = tf.keras.Sequential([\n",
    "    tf.keras.layers.Embedding(vocab_size, embedding_dim, input_length=max_length),\n",
    "    tf.keras.layers.GlobalAveragePooling1D(),\n",
    "    tf.keras.layers.Dense(24, activation='relu'),\n",
    "    tf.keras.layers.Dense(6, activation='softmax')\n",
    "])\n",
    "\n",
    "#compile model\n",
    "model.compile(loss='sparse_categorical_crossentropy', optimizer='adam', metrics=['accuracy'])\n",
    "model.summary()"
   ]
  },
  {
   "cell_type": "code",
   "execution_count": 13,
   "metadata": {},
   "outputs": [
    {
     "name": "stdout",
     "output_type": "stream",
     "text": [
      "Epoch 1/30\n",
      "56/56 - 0s - loss: 1.7745 - accuracy: 0.2270 - val_loss: 1.7488 - val_accuracy: 0.2315\n",
      "Epoch 2/30\n",
      "56/56 - 0s - loss: 1.7107 - accuracy: 0.2871 - val_loss: 1.6619 - val_accuracy: 0.4382\n",
      "Epoch 3/30\n",
      "56/56 - 0s - loss: 1.5931 - accuracy: 0.5180 - val_loss: 1.5090 - val_accuracy: 0.6180\n",
      "Epoch 4/30\n",
      "56/56 - 0s - loss: 1.4066 - accuracy: 0.6090 - val_loss: 1.3088 - val_accuracy: 0.6157\n",
      "Epoch 5/30\n",
      "56/56 - 0s - loss: 1.1877 - accuracy: 0.6438 - val_loss: 1.1094 - val_accuracy: 0.6629\n",
      "Epoch 6/30\n",
      "56/56 - 0s - loss: 0.9820 - accuracy: 0.7601 - val_loss: 0.9205 - val_accuracy: 0.8090\n",
      "Epoch 7/30\n",
      "56/56 - 0s - loss: 0.7915 - accuracy: 0.8742 - val_loss: 0.7544 - val_accuracy: 0.8697\n",
      "Epoch 8/30\n",
      "56/56 - 0s - loss: 0.6267 - accuracy: 0.9124 - val_loss: 0.6159 - val_accuracy: 0.8989\n",
      "Epoch 9/30\n",
      "56/56 - 0s - loss: 0.4948 - accuracy: 0.9371 - val_loss: 0.5111 - val_accuracy: 0.8966\n",
      "Epoch 10/30\n",
      "56/56 - 0s - loss: 0.3920 - accuracy: 0.9455 - val_loss: 0.4307 - val_accuracy: 0.9056\n",
      "Epoch 11/30\n",
      "56/56 - 0s - loss: 0.3173 - accuracy: 0.9494 - val_loss: 0.3702 - val_accuracy: 0.9169\n",
      "Epoch 12/30\n",
      "56/56 - 0s - loss: 0.2652 - accuracy: 0.9511 - val_loss: 0.3302 - val_accuracy: 0.9169\n",
      "Epoch 13/30\n",
      "56/56 - 0s - loss: 0.2251 - accuracy: 0.9584 - val_loss: 0.3036 - val_accuracy: 0.9213\n",
      "Epoch 14/30\n",
      "56/56 - 0s - loss: 0.1954 - accuracy: 0.9612 - val_loss: 0.2799 - val_accuracy: 0.9213\n",
      "Epoch 15/30\n",
      "56/56 - 0s - loss: 0.1722 - accuracy: 0.9680 - val_loss: 0.2646 - val_accuracy: 0.9169\n",
      "Epoch 16/30\n",
      "56/56 - 0s - loss: 0.1510 - accuracy: 0.9725 - val_loss: 0.2492 - val_accuracy: 0.9191\n",
      "Epoch 17/30\n",
      "56/56 - 0s - loss: 0.1343 - accuracy: 0.9753 - val_loss: 0.2375 - val_accuracy: 0.9236\n",
      "Epoch 18/30\n",
      "56/56 - 0s - loss: 0.1198 - accuracy: 0.9764 - val_loss: 0.2308 - val_accuracy: 0.9191\n",
      "Epoch 19/30\n",
      "56/56 - 0s - loss: 0.1079 - accuracy: 0.9787 - val_loss: 0.2220 - val_accuracy: 0.9169\n",
      "Epoch 20/30\n",
      "56/56 - 0s - loss: 0.0964 - accuracy: 0.9815 - val_loss: 0.2202 - val_accuracy: 0.9213\n",
      "Epoch 21/30\n",
      "56/56 - 0s - loss: 0.0877 - accuracy: 0.9854 - val_loss: 0.2186 - val_accuracy: 0.9213\n",
      "Epoch 22/30\n",
      "56/56 - 0s - loss: 0.0789 - accuracy: 0.9904 - val_loss: 0.2092 - val_accuracy: 0.9236\n",
      "Epoch 23/30\n",
      "56/56 - 0s - loss: 0.0708 - accuracy: 0.9944 - val_loss: 0.2076 - val_accuracy: 0.9236\n",
      "Epoch 24/30\n",
      "56/56 - 0s - loss: 0.0638 - accuracy: 0.9949 - val_loss: 0.2018 - val_accuracy: 0.9191\n",
      "Epoch 25/30\n",
      "56/56 - 0s - loss: 0.0580 - accuracy: 0.9961 - val_loss: 0.2019 - val_accuracy: 0.9258\n",
      "Epoch 26/30\n",
      "56/56 - 0s - loss: 0.0524 - accuracy: 0.9972 - val_loss: 0.2004 - val_accuracy: 0.9236\n",
      "Epoch 27/30\n",
      "56/56 - 0s - loss: 0.0476 - accuracy: 0.9978 - val_loss: 0.1962 - val_accuracy: 0.9213\n",
      "Epoch 28/30\n",
      "56/56 - 0s - loss: 0.0431 - accuracy: 0.9983 - val_loss: 0.1969 - val_accuracy: 0.9281\n",
      "Epoch 29/30\n",
      "56/56 - 0s - loss: 0.0396 - accuracy: 0.9983 - val_loss: 0.1948 - val_accuracy: 0.9258\n",
      "Epoch 30/30\n",
      "56/56 - 0s - loss: 0.0357 - accuracy: 0.9983 - val_loss: 0.1940 - val_accuracy: 0.9281\n"
     ]
    }
   ],
   "source": [
    "#train model with history\n",
    "epochs = 30\n",
    "history = model.fit(\n",
    "    train_padded,\n",
    "    training_label_seq,\n",
    "    epochs=epochs,\n",
    "    validation_data=(validation_padded, validation_label_seq),\n",
    "    verbose=2\n",
    ")"
   ]
  },
  {
   "cell_type": "code",
   "execution_count": 14,
   "metadata": {},
   "outputs": [
    {
     "data": {
      "image/png": "[encoded data removed]",
      "text/plain": [
       "<Figure size 432x288 with 1 Axes>"
      ]
     },
     "metadata": {
      "needs_background": "light"
     },
     "output_type": "display_data"
    },
    {
     "data": {
      "image/png": "[encoded data removed]",
      "text/plain": [
       "<Figure size 432x288 with 1 Axes>"
      ]
     },
     "metadata": {
      "needs_background": "light"
     },
     "output_type": "display_data"
    }
   ],
   "source": [
    "#plot performance\n",
    "import matplotlib.pyplot as plt\n",
    "\n",
    "\n",
    "def plot_graphs(history, string):\n",
    "  plt.plot(history.history[string])\n",
    "  plt.plot(history.history['val_'+string])\n",
    "  plt.xlabel(\"Epochs\")\n",
    "  plt.ylabel(string)\n",
    "  plt.legend([string, 'val_'+string])\n",
    "  plt.show()\n",
    "  \n",
    "plot_graphs(history, \"accuracy\")\n",
    "plot_graphs(history, \"loss\")"
   ]
  },
  {
   "cell_type": "code",
   "execution_count": null,
   "metadata": {},
   "outputs": [],
   "source": []
  }
 ],
 "metadata": {
  "kernelspec": {
   "display_name": "Python 3",
   "language": "python",
   "name": "python3"
  },
  "language_info": {
   "codemirror_mode": {
    "name": "ipython",
    "version": 3
   },
   "file_extension": ".py",
   "mimetype": "text/x-python",
   "name": "python",
   "nbconvert_exporter": "python",
   "pygments_lexer": "ipython3",
   "version": "3.8.3"
  }
 },
 "nbformat": 4,
 "nbformat_minor": 4
}
